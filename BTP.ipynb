{
 "cells": [
  {
   "cell_type": "markdown",
   "metadata": {},
   "source": [
    "## Imports"
   ]
  },
  {
   "cell_type": "code",
   "execution_count": 1,
   "metadata": {},
   "outputs": [],
   "source": [
    "import pandas as pd\n",
    "from pandas import DataFrame, Series\n",
    "import numpy as np\n",
    "from numpy import load\n",
    "from scipy.io import loadmat\n",
    "import seaborn as sns\n",
    "import matplotlib.pyplot as plt\n"
   ]
  },
  {
   "cell_type": "markdown",
   "metadata": {},
   "source": [
    "#### Data import"
   ]
  },
  {
   "cell_type": "code",
   "execution_count": 2,
   "metadata": {
    "scrolled": true
   },
   "outputs": [],
   "source": [
    "# importing the dataset from the local directory\n",
    "\n",
    "ir_3 = pd.read_csv('IR_3_accn.csv').set_index('time')\n",
    "or_3 = pd.read_csv('OR_3_accn.csv').set_index('time')\n",
    "ir_5 = pd.read_csv('IR_5_accn.csv').set_index('time')\n",
    "or_5 = pd.read_csv('OR_5_accn.csv').set_index('time')\n",
    "nf = pd.read_csv('Healthy_accn.csv').set_index('time')"
   ]
  },
  {
   "cell_type": "code",
   "execution_count": 3,
   "metadata": {},
   "outputs": [],
   "source": [
    " # chaniging the dataframe into numpy format\n",
    "    \n",
    "k_0 = ir_3.to_numpy()\n",
    "k_1 = or_3.to_numpy()\n",
    "k_2 = nf.to_numpy()\n",
    "k_3 = ir_5.to_numpy()\n",
    "k_4 = or_5.to_numpy()\n",
    "\n",
    "# Now we have a total of 5 datasets in the numpy atrray format. "
   ]
  },
  {
   "cell_type": "code",
   "execution_count": 4,
   "metadata": {},
   "outputs": [
    {
     "data": {
      "text/plain": [
       "121.265"
      ]
     },
     "execution_count": 4,
     "metadata": {},
     "output_type": "execute_result"
    }
   ],
   "source": [
    "len(k_0)/1000 # Just like k_0, every array gives at least 121 when divided by 1000"
   ]
  },
  {
   "cell_type": "markdown",
   "metadata": {},
   "source": [
    "We are going to segment each dataset in 120 segment, each segment containing 1000 datapoints. This is done to have a good no of data to find the time domain gfeatures. "
   ]
  },
  {
   "cell_type": "markdown",
   "metadata": {},
   "source": [
    "## Data Preprocessing"
   ]
  },
  {
   "cell_type": "code",
   "execution_count": 5,
   "metadata": {},
   "outputs": [],
   "source": [
    "# here we are going to segment the data so that we can find the time domain features for eaach segment\n",
    "\n",
    "segmented_data = np.repeat(np.nan, 600*1000).reshape(600,1000)\n",
    "num =0\n",
    "data_arr = [k_0, k_1, k_2, k_3, k_4] # creating a array of arrays \n",
    "for i in data_arr:                   #using loop to loop over all the arrays and segment all at once \n",
    "    for j in range(120):           # We collect 120 segments from each array\n",
    "        segmented_data[num,:] = i[j*1000:(j+1)*1000, 0] # taking 1000 datapoints at a time \n",
    "        num = num + 1"
   ]
  },
  {
   "cell_type": "code",
   "execution_count": 6,
   "metadata": {},
   "outputs": [
    {
     "data": {
      "text/plain": [
       "(600, 1000)"
      ]
     },
     "execution_count": 6,
     "metadata": {},
     "output_type": "execute_result"
    }
   ],
   "source": [
    "segmented_data.shape"
   ]
  },
  {
   "cell_type": "code",
   "execution_count": 7,
   "metadata": {},
   "outputs": [
    {
     "data": {
      "text/plain": [
       "array([[-8.30043510e-02, -1.95734331e-01,  2.33419281e-01, ...,\n",
       "         3.06839960e-01,  3.55732934e-01,  2.15713852e-01],\n",
       "       [-1.73968024e-01, -4.67163433e-01, -1.13217285e-01, ...,\n",
       "         9.14509780e-02, -2.60708383e-01,  2.74515370e-02],\n",
       "       [ 1.96871377e-01, -2.21723952e-01, -3.11875449e-01, ...,\n",
       "         4.80645549e-01,  7.25760160e-01, -9.04763670e-02],\n",
       "       ...,\n",
       "       [ 1.84769960e-01, -5.52279440e-02,  4.62940120e-02, ...,\n",
       "        -7.87810380e-02, -2.20911776e-01,  2.55835330e-02],\n",
       "       [ 1.41724651e-01, -1.64871657e-01, -1.98576946e-01, ...,\n",
       "        -2.15226547e-01, -1.05582830e-02,  2.63550998e-01],\n",
       "       [ 6.61923150e-02, -1.77866467e-01,  4.06088000e-04, ...,\n",
       "        -7.43140720e-02,  4.14209581e-01,  9.66489020e-02]])"
      ]
     },
     "execution_count": 7,
     "metadata": {},
     "output_type": "execute_result"
    }
   ],
   "source": [
    "segmented_data"
   ]
  },
  {
   "cell_type": "markdown",
   "metadata": {},
   "source": [
    "## Computing time domain features"
   ]
  },
  {
   "cell_type": "code",
   "execution_count": 8,
   "metadata": {},
   "outputs": [],
   "source": [
    "# skewness is a stastical feature and we are going to get it by writing the formula \n",
    "\n",
    "# most accepted fprmula for skewness \n",
    "\n",
    "def compute_skewness(x):\n",
    "    \n",
    "    N = len(x)\n",
    "    third_moment = np.sum((x - np.mean(x))**3) / N\n",
    "    s_3 = np.std(x, ddof = 1) ** 3\n",
    "    return third_moment/s_3"
   ]
  },
  {
   "cell_type": "code",
   "execution_count": 9,
   "metadata": {},
   "outputs": [],
   "source": [
    "# same wayfor kurtosis\n",
    "\n",
    "def compute_kurtosis(x):\n",
    "    \n",
    "    N = len(x)\n",
    "    fourth_moment = np.sum((x - np.mean(x))**4) / N\n",
    "    s_4 = np.std(x, ddof = 1) ** 4\n",
    "    return fourth_moment / s_4 - 3"
   ]
  },
  {
   "cell_type": "code",
   "execution_count": 10,
   "metadata": {},
   "outputs": [],
   "source": [
    "# here thge feture is created \n",
    "feature_matrix_time = np.repeat(np.nan, 600*7).reshape((600,7)) # first a null numpy array is created and then we will replace\n",
    "#the value one by one \n",
    "N = segmented_data.shape[1]\n",
    "for i in np.arange(segmented_data.shape[0]): # i will iterate over all the rows \n",
    "    temp = segmented_data[i,:]\n",
    "    feature_matrix_time[i,0] = np.max(temp)     # now each column is filled for all the ith row one by one . 1st row  \n",
    "    feature_matrix_time[i,1] = np.min(temp)     # 2nd row - min\n",
    "    feature_matrix_time[i,2] = np.mean(temp)\n",
    "    feature_matrix_time[i,3] = np.std(temp, ddof = 1)\n",
    "    feature_matrix_time[i,4] = np.sqrt(np.mean(temp ** 2))\n",
    "    feature_matrix_time[i,5] = compute_skewness(temp)\n",
    "    feature_matrix_time[i,6] = compute_kurtosis(temp)"
   ]
  },
  {
   "cell_type": "code",
   "execution_count": 11,
   "metadata": {},
   "outputs": [
    {
     "data": {
      "text/plain": [
       "(600, 7)"
      ]
     },
     "execution_count": 11,
     "metadata": {},
     "output_type": "execute_result"
    }
   ],
   "source": [
    "feature_matrix_time.shape"
   ]
  },
  {
   "cell_type": "code",
   "execution_count": 12,
   "metadata": {},
   "outputs": [
    {
     "data": {
      "text/html": [
       "<div>\n",
       "<style scoped>\n",
       "    .dataframe tbody tr th:only-of-type {\n",
       "        vertical-align: middle;\n",
       "    }\n",
       "\n",
       "    .dataframe tbody tr th {\n",
       "        vertical-align: top;\n",
       "    }\n",
       "\n",
       "    .dataframe thead th {\n",
       "        text-align: right;\n",
       "    }\n",
       "</style>\n",
       "<table border=\"1\" class=\"dataframe\">\n",
       "  <thead>\n",
       "    <tr style=\"text-align: right;\">\n",
       "      <th></th>\n",
       "      <th>max</th>\n",
       "      <th>min</th>\n",
       "      <th>mean</th>\n",
       "      <th>sd</th>\n",
       "      <th>rms</th>\n",
       "      <th>skewness</th>\n",
       "      <th>kurtosis</th>\n",
       "    </tr>\n",
       "  </thead>\n",
       "  <tbody>\n",
       "    <tr>\n",
       "      <th>0</th>\n",
       "      <td>1.382973</td>\n",
       "      <td>-1.175218</td>\n",
       "      <td>0.015996</td>\n",
       "      <td>0.292141</td>\n",
       "      <td>0.292433</td>\n",
       "      <td>0.082279</td>\n",
       "      <td>2.316095</td>\n",
       "    </tr>\n",
       "    <tr>\n",
       "      <th>1</th>\n",
       "      <td>1.482708</td>\n",
       "      <td>-1.095463</td>\n",
       "      <td>0.015277</td>\n",
       "      <td>0.286502</td>\n",
       "      <td>0.286766</td>\n",
       "      <td>0.189660</td>\n",
       "      <td>2.754500</td>\n",
       "    </tr>\n",
       "    <tr>\n",
       "      <th>2</th>\n",
       "      <td>1.126325</td>\n",
       "      <td>-1.181228</td>\n",
       "      <td>0.015341</td>\n",
       "      <td>0.288121</td>\n",
       "      <td>0.288386</td>\n",
       "      <td>0.100776</td>\n",
       "      <td>2.501778</td>\n",
       "    </tr>\n",
       "    <tr>\n",
       "      <th>3</th>\n",
       "      <td>1.203807</td>\n",
       "      <td>-1.027890</td>\n",
       "      <td>0.015540</td>\n",
       "      <td>0.282663</td>\n",
       "      <td>0.282948</td>\n",
       "      <td>0.123284</td>\n",
       "      <td>2.110248</td>\n",
       "    </tr>\n",
       "    <tr>\n",
       "      <th>4</th>\n",
       "      <td>1.294121</td>\n",
       "      <td>-1.172294</td>\n",
       "      <td>0.015050</td>\n",
       "      <td>0.284348</td>\n",
       "      <td>0.284604</td>\n",
       "      <td>0.060281</td>\n",
       "      <td>2.419805</td>\n",
       "    </tr>\n",
       "    <tr>\n",
       "      <th>...</th>\n",
       "      <td>...</td>\n",
       "      <td>...</td>\n",
       "      <td>...</td>\n",
       "      <td>...</td>\n",
       "      <td>...</td>\n",
       "      <td>...</td>\n",
       "      <td>...</td>\n",
       "    </tr>\n",
       "    <tr>\n",
       "      <th>595</th>\n",
       "      <td>3.352255</td>\n",
       "      <td>-3.119567</td>\n",
       "      <td>0.015512</td>\n",
       "      <td>0.692403</td>\n",
       "      <td>0.692230</td>\n",
       "      <td>0.073976</td>\n",
       "      <td>5.200650</td>\n",
       "    </tr>\n",
       "    <tr>\n",
       "      <th>596</th>\n",
       "      <td>2.835305</td>\n",
       "      <td>-2.846270</td>\n",
       "      <td>0.017355</td>\n",
       "      <td>0.636073</td>\n",
       "      <td>0.635992</td>\n",
       "      <td>0.123782</td>\n",
       "      <td>4.525879</td>\n",
       "    </tr>\n",
       "    <tr>\n",
       "      <th>597</th>\n",
       "      <td>3.346570</td>\n",
       "      <td>-3.070836</td>\n",
       "      <td>0.016468</td>\n",
       "      <td>0.696495</td>\n",
       "      <td>0.696341</td>\n",
       "      <td>0.059132</td>\n",
       "      <td>4.799846</td>\n",
       "    </tr>\n",
       "    <tr>\n",
       "      <th>598</th>\n",
       "      <td>3.372559</td>\n",
       "      <td>-2.996928</td>\n",
       "      <td>0.015991</td>\n",
       "      <td>0.636658</td>\n",
       "      <td>0.636541</td>\n",
       "      <td>0.030605</td>\n",
       "      <td>4.649890</td>\n",
       "    </tr>\n",
       "    <tr>\n",
       "      <th>599</th>\n",
       "      <td>3.275098</td>\n",
       "      <td>-3.202409</td>\n",
       "      <td>0.016056</td>\n",
       "      <td>0.722986</td>\n",
       "      <td>0.722803</td>\n",
       "      <td>0.037445</td>\n",
       "      <td>4.879558</td>\n",
       "    </tr>\n",
       "  </tbody>\n",
       "</table>\n",
       "<p>600 rows × 7 columns</p>\n",
       "</div>"
      ],
      "text/plain": [
       "          max       min      mean        sd       rms  skewness  kurtosis\n",
       "0    1.382973 -1.175218  0.015996  0.292141  0.292433  0.082279  2.316095\n",
       "1    1.482708 -1.095463  0.015277  0.286502  0.286766  0.189660  2.754500\n",
       "2    1.126325 -1.181228  0.015341  0.288121  0.288386  0.100776  2.501778\n",
       "3    1.203807 -1.027890  0.015540  0.282663  0.282948  0.123284  2.110248\n",
       "4    1.294121 -1.172294  0.015050  0.284348  0.284604  0.060281  2.419805\n",
       "..        ...       ...       ...       ...       ...       ...       ...\n",
       "595  3.352255 -3.119567  0.015512  0.692403  0.692230  0.073976  5.200650\n",
       "596  2.835305 -2.846270  0.017355  0.636073  0.635992  0.123782  4.525879\n",
       "597  3.346570 -3.070836  0.016468  0.696495  0.696341  0.059132  4.799846\n",
       "598  3.372559 -2.996928  0.015991  0.636658  0.636541  0.030605  4.649890\n",
       "599  3.275098 -3.202409  0.016056  0.722986  0.722803  0.037445  4.879558\n",
       "\n",
       "[600 rows x 7 columns]"
      ]
     },
     "execution_count": 12,
     "metadata": {},
     "output_type": "execute_result"
    }
   ],
   "source": [
    "C = ['max','min','mean','sd','rms','skewness','kurtosis']\n",
    "raw_data = pd.DataFrame(feature_matrix_time, columns = C)\n",
    "raw_data"
   ]
  },
  {
   "cell_type": "code",
   "execution_count": 13,
   "metadata": {},
   "outputs": [
    {
     "data": {
      "text/plain": [
       "array([[ 1.3829727 , -1.17521816,  0.01599645, ...,  0.2924326 ,\n",
       "         0.08227936,  2.31609454],\n",
       "       [ 1.48270786, -1.09546251,  0.0152767 , ...,  0.28676592,\n",
       "         0.18966036,  2.75450026],\n",
       "       [ 1.12632519, -1.18122826,  0.0153407 , ...,  0.28838559,\n",
       "         0.10077618,  2.50177807],\n",
       "       ...,\n",
       "       [ 3.34656976, -3.07083613,  0.01646849, ...,  0.69634132,\n",
       "         0.05913162,  4.79984592],\n",
       "       [ 3.37255938, -2.99692814,  0.01599133, ...,  0.63654052,\n",
       "         0.03060524,  4.64989045],\n",
       "       [ 3.2750983 , -3.20240858,  0.01605631, ...,  0.72280287,\n",
       "         0.0374447 ,  4.87955764]])"
      ]
     },
     "execution_count": 13,
     "metadata": {},
     "output_type": "execute_result"
    }
   ],
   "source": [
    "feature_matrix_time"
   ]
  },
  {
   "cell_type": "code",
   "execution_count": 14,
   "metadata": {},
   "outputs": [],
   "source": [
    "raw_data.to_csv('raw_data.csv', index=False) # Here, we have saved the data locally in csv format"
   ]
  },
  {
   "cell_type": "markdown",
   "metadata": {},
   "source": [
    "We then add a new column manually in excel. this column will be the last column that will contain the categorical value., which finally will help to identify the pattern. "
   ]
  },
  {
   "cell_type": "code",
   "execution_count": 15,
   "metadata": {},
   "outputs": [
    {
     "data": {
      "text/html": [
       "<div>\n",
       "<style scoped>\n",
       "    .dataframe tbody tr th:only-of-type {\n",
       "        vertical-align: middle;\n",
       "    }\n",
       "\n",
       "    .dataframe tbody tr th {\n",
       "        vertical-align: top;\n",
       "    }\n",
       "\n",
       "    .dataframe thead th {\n",
       "        text-align: right;\n",
       "    }\n",
       "</style>\n",
       "<table border=\"1\" class=\"dataframe\">\n",
       "  <thead>\n",
       "    <tr style=\"text-align: right;\">\n",
       "      <th></th>\n",
       "      <th>max</th>\n",
       "      <th>min</th>\n",
       "      <th>mean</th>\n",
       "      <th>sd</th>\n",
       "      <th>rms</th>\n",
       "      <th>skewness</th>\n",
       "      <th>kurtosis</th>\n",
       "      <th>fault</th>\n",
       "    </tr>\n",
       "  </thead>\n",
       "  <tbody>\n",
       "    <tr>\n",
       "      <th>0</th>\n",
       "      <td>1.382973</td>\n",
       "      <td>-1.175218</td>\n",
       "      <td>0.015996</td>\n",
       "      <td>0.292141</td>\n",
       "      <td>0.292433</td>\n",
       "      <td>0.082279</td>\n",
       "      <td>2.316095</td>\n",
       "      <td>ir_3</td>\n",
       "    </tr>\n",
       "    <tr>\n",
       "      <th>1</th>\n",
       "      <td>1.482708</td>\n",
       "      <td>-1.095463</td>\n",
       "      <td>0.015277</td>\n",
       "      <td>0.286502</td>\n",
       "      <td>0.286766</td>\n",
       "      <td>0.189660</td>\n",
       "      <td>2.754500</td>\n",
       "      <td>ir_3</td>\n",
       "    </tr>\n",
       "    <tr>\n",
       "      <th>2</th>\n",
       "      <td>1.126325</td>\n",
       "      <td>-1.181228</td>\n",
       "      <td>0.015341</td>\n",
       "      <td>0.288121</td>\n",
       "      <td>0.288386</td>\n",
       "      <td>0.100776</td>\n",
       "      <td>2.501778</td>\n",
       "      <td>ir_3</td>\n",
       "    </tr>\n",
       "    <tr>\n",
       "      <th>3</th>\n",
       "      <td>1.203807</td>\n",
       "      <td>-1.027890</td>\n",
       "      <td>0.015540</td>\n",
       "      <td>0.282663</td>\n",
       "      <td>0.282948</td>\n",
       "      <td>0.123284</td>\n",
       "      <td>2.110248</td>\n",
       "      <td>ir_3</td>\n",
       "    </tr>\n",
       "    <tr>\n",
       "      <th>4</th>\n",
       "      <td>1.294121</td>\n",
       "      <td>-1.172294</td>\n",
       "      <td>0.015050</td>\n",
       "      <td>0.284348</td>\n",
       "      <td>0.284604</td>\n",
       "      <td>0.060281</td>\n",
       "      <td>2.419805</td>\n",
       "      <td>ir_3</td>\n",
       "    </tr>\n",
       "    <tr>\n",
       "      <th>...</th>\n",
       "      <td>...</td>\n",
       "      <td>...</td>\n",
       "      <td>...</td>\n",
       "      <td>...</td>\n",
       "      <td>...</td>\n",
       "      <td>...</td>\n",
       "      <td>...</td>\n",
       "      <td>...</td>\n",
       "    </tr>\n",
       "    <tr>\n",
       "      <th>595</th>\n",
       "      <td>3.211343</td>\n",
       "      <td>-4.142096</td>\n",
       "      <td>0.004107</td>\n",
       "      <td>0.475398</td>\n",
       "      <td>0.475178</td>\n",
       "      <td>-0.690432</td>\n",
       "      <td>19.797039</td>\n",
       "      <td>or_5</td>\n",
       "    </tr>\n",
       "    <tr>\n",
       "      <th>596</th>\n",
       "      <td>5.209701</td>\n",
       "      <td>-5.024931</td>\n",
       "      <td>0.004703</td>\n",
       "      <td>0.607363</td>\n",
       "      <td>0.607078</td>\n",
       "      <td>0.393820</td>\n",
       "      <td>18.732724</td>\n",
       "      <td>or_5</td>\n",
       "    </tr>\n",
       "    <tr>\n",
       "      <th>597</th>\n",
       "      <td>3.921184</td>\n",
       "      <td>-3.848494</td>\n",
       "      <td>0.004480</td>\n",
       "      <td>0.475472</td>\n",
       "      <td>0.475255</td>\n",
       "      <td>-0.353512</td>\n",
       "      <td>21.360337</td>\n",
       "      <td>or_5</td>\n",
       "    </tr>\n",
       "    <tr>\n",
       "      <th>598</th>\n",
       "      <td>4.265547</td>\n",
       "      <td>-4.106766</td>\n",
       "      <td>0.004471</td>\n",
       "      <td>0.600897</td>\n",
       "      <td>0.600613</td>\n",
       "      <td>0.192449</td>\n",
       "      <td>12.759407</td>\n",
       "      <td>or_5</td>\n",
       "    </tr>\n",
       "    <tr>\n",
       "      <th>599</th>\n",
       "      <td>3.124034</td>\n",
       "      <td>-3.299870</td>\n",
       "      <td>0.004679</td>\n",
       "      <td>0.432293</td>\n",
       "      <td>0.432102</td>\n",
       "      <td>-0.479375</td>\n",
       "      <td>18.355063</td>\n",
       "      <td>or_5</td>\n",
       "    </tr>\n",
       "  </tbody>\n",
       "</table>\n",
       "<p>600 rows × 8 columns</p>\n",
       "</div>"
      ],
      "text/plain": [
       "          max       min      mean        sd       rms  skewness   kurtosis  \\\n",
       "0    1.382973 -1.175218  0.015996  0.292141  0.292433  0.082279   2.316095   \n",
       "1    1.482708 -1.095463  0.015277  0.286502  0.286766  0.189660   2.754500   \n",
       "2    1.126325 -1.181228  0.015341  0.288121  0.288386  0.100776   2.501778   \n",
       "3    1.203807 -1.027890  0.015540  0.282663  0.282948  0.123284   2.110248   \n",
       "4    1.294121 -1.172294  0.015050  0.284348  0.284604  0.060281   2.419805   \n",
       "..        ...       ...       ...       ...       ...       ...        ...   \n",
       "595  3.211343 -4.142096  0.004107  0.475398  0.475178 -0.690432  19.797039   \n",
       "596  5.209701 -5.024931  0.004703  0.607363  0.607078  0.393820  18.732724   \n",
       "597  3.921184 -3.848494  0.004480  0.475472  0.475255 -0.353512  21.360337   \n",
       "598  4.265547 -4.106766  0.004471  0.600897  0.600613  0.192449  12.759407   \n",
       "599  3.124034 -3.299870  0.004679  0.432293  0.432102 -0.479375  18.355063   \n",
       "\n",
       "    fault  \n",
       "0    ir_3  \n",
       "1    ir_3  \n",
       "2    ir_3  \n",
       "3    ir_3  \n",
       "4    ir_3  \n",
       "..    ...  \n",
       "595  or_5  \n",
       "596  or_5  \n",
       "597  or_5  \n",
       "598  or_5  \n",
       "599  or_5  \n",
       "\n",
       "[600 rows x 8 columns]"
      ]
     },
     "execution_count": 15,
     "metadata": {},
     "output_type": "execute_result"
    }
   ],
   "source": [
    "final_data = pd.read_csv('final_data_5.csv')\n",
    "final_data"
   ]
  },
  {
   "cell_type": "code",
   "execution_count": 16,
   "metadata": {},
   "outputs": [
    {
     "data": {
      "text/plain": [
       "or_5    120\n",
       "ir_5    120\n",
       "ir_3    120\n",
       "or_3    120\n",
       "nf      120\n",
       "Name: fault, dtype: int64"
      ]
     },
     "execution_count": 16,
     "metadata": {},
     "output_type": "execute_result"
    }
   ],
   "source": [
    "final_data['fault'].value_counts()"
   ]
  },
  {
   "cell_type": "code",
   "execution_count": 17,
   "metadata": {},
   "outputs": [
    {
     "data": {
      "text/plain": [
       "max         float64\n",
       "min         float64\n",
       "mean        float64\n",
       "sd          float64\n",
       "rms         float64\n",
       "skewness    float64\n",
       "kurtosis    float64\n",
       "fault        object\n",
       "dtype: object"
      ]
     },
     "execution_count": 17,
     "metadata": {},
     "output_type": "execute_result"
    }
   ],
   "source": [
    "final_data.dtypes"
   ]
  },
  {
   "cell_type": "markdown",
   "metadata": {},
   "source": [
    "##  Applying ML "
   ]
  },
  {
   "cell_type": "code",
   "execution_count": 18,
   "metadata": {},
   "outputs": [],
   "source": [
    "from sklearn.tree import DecisionTreeClassifier\n",
    "from sklearn.svm import SVC\n",
    "from sklearn.ensemble import RandomForestClassifier\n",
    "from sklearn.linear_model import LogisticRegression\n",
    "from sklearn.neighbors import KNeighborsClassifier\n",
    "from sklearn.metrics import confusion_matrix\n",
    "from sklearn.metrics import accuracy_score\n",
    "\n",
    "from sklearn.model_selection import train_test_split"
   ]
  },
  {
   "cell_type": "code",
   "execution_count": 19,
   "metadata": {},
   "outputs": [],
   "source": [
    "df = final_data"
   ]
  },
  {
   "cell_type": "code",
   "execution_count": 20,
   "metadata": {},
   "outputs": [
    {
     "data": {
      "text/plain": [
       "Index(['max', 'min', 'mean', 'sd', 'rms', 'skewness', 'kurtosis', 'fault'], dtype='object')"
      ]
     },
     "execution_count": 20,
     "metadata": {},
     "output_type": "execute_result"
    }
   ],
   "source": [
    "df. columns"
   ]
  },
  {
   "cell_type": "code",
   "execution_count": 21,
   "metadata": {},
   "outputs": [],
   "source": [
    "\n",
    "x = df[['max', 'min', 'rms', 'skewness', 'kurtosis']]\n",
    "y = df.fault\n",
    "X_train, X_test, Y_train, Y_test = train_test_split(x,y,test_size=0.3,random_state=59)\n",
    "    \n"
   ]
  },
  {
   "cell_type": "markdown",
   "metadata": {},
   "source": [
    "### Applying different classification techniques "
   ]
  },
  {
   "cell_type": "code",
   "execution_count": 22,
   "metadata": {},
   "outputs": [
    {
     "name": "stdout",
     "output_type": "stream",
     "text": [
      "[[36  0  0  0  0]\n",
      " [ 0 27  0  0  0]\n",
      " [ 0  0 28  0  0]\n",
      " [ 0  1  0 41  0]\n",
      " [ 0  1  0  3 43]]\n",
      "Accuracy :  97.22222222222221\n"
     ]
    }
   ],
   "source": [
    "# Using decision Tree using default params \n",
    "\n",
    "DT = DecisionTreeClassifier()\n",
    "\n",
    "# Performing training\n",
    "DT.fit(X_train, Y_train)\n",
    "\n",
    "y_pred = DT.predict(X_test)\n",
    "\n",
    "# creating confusion matrix \n",
    "print(confusion_matrix(Y_test, y_pred))\n",
    "\n",
    "print (\"Accuracy : \", accuracy_score(Y_test,y_pred)*100)\n",
    "DT_score = round(accuracy_score(Y_test,y_pred)*100,2)\n"
   ]
  },
  {
   "cell_type": "code",
   "execution_count": null,
   "metadata": {},
   "outputs": [],
   "source": []
  },
  {
   "cell_type": "code",
   "execution_count": 23,
   "metadata": {},
   "outputs": [
    {
     "name": "stdout",
     "output_type": "stream",
     "text": [
      "[[36  0  0  0  0]\n",
      " [ 0 27  0  0  0]\n",
      " [ 0  0 28  0  0]\n",
      " [ 0  1  0 41  0]\n",
      " [ 0  0  0  1 46]]\n",
      "Accuracy :  98.88888888888889\n"
     ]
    }
   ],
   "source": [
    "# Using KNN\n",
    "\n",
    "RF=RandomForestClassifier()\n",
    "RF.fit(X_train, Y_train) # training and fitting \n",
    "y_pred = RF.predict(X_test) # prediction \n",
    "print(confusion_matrix(Y_test, y_pred))\n",
    "print (\"Accuracy : \", accuracy_score(Y_test,y_pred)*100) # accuracy \n",
    "RF_score = round(accuracy_score(Y_test,y_pred)*100,2)\n",
    "     \n"
   ]
  },
  {
   "cell_type": "code",
   "execution_count": 24,
   "metadata": {},
   "outputs": [
    {
     "name": "stdout",
     "output_type": "stream",
     "text": [
      "Accuracy :  96.11111111111111\n"
     ]
    }
   ],
   "source": [
    "\n",
    "#Create KNN Classifier\n",
    "knn = KNeighborsClassifier(n_neighbors= 9)\n",
    "\n",
    "#Train the model\n",
    "knn.fit(X_train, Y_train)\n",
    "\n",
    "#Predict the response for test dataset\n",
    "y_pred = knn.predict(X_test)\n",
    "\n",
    "#print(confusion_matrix(Y_test, y_pred))\n",
    "print (\"Accuracy : \", accuracy_score(Y_test,y_pred)*100)\n",
    "KNN_score = round(accuracy_score(Y_test,y_pred)*100,2)\n"
   ]
  },
  {
   "cell_type": "code",
   "execution_count": 25,
   "metadata": {},
   "outputs": [
    {
     "name": "stdout",
     "output_type": "stream",
     "text": [
      "[[36  0  0  0  0]\n",
      " [ 0 26  0  0  1]\n",
      " [ 0  0 28  0  0]\n",
      " [ 0  1  0 41  0]\n",
      " [ 0  2  0  1 44]]\n",
      "Accuracy :  97.22222222222221\n"
     ]
    },
    {
     "name": "stderr",
     "output_type": "stream",
     "text": [
      "C:\\Users\\swapn\\anaconda3\\lib\\site-packages\\sklearn\\linear_model\\_logistic.py:762: ConvergenceWarning: lbfgs failed to converge (status=1):\n",
      "STOP: TOTAL NO. of ITERATIONS REACHED LIMIT.\n",
      "\n",
      "Increase the number of iterations (max_iter) or scale the data as shown in:\n",
      "    https://scikit-learn.org/stable/modules/preprocessing.html\n",
      "Please also refer to the documentation for alternative solver options:\n",
      "    https://scikit-learn.org/stable/modules/linear_model.html#logistic-regression\n",
      "  n_iter_i = _check_optimize_result(\n"
     ]
    },
    {
     "data": {
      "text/plain": [
       "97.22"
      ]
     },
     "execution_count": 25,
     "metadata": {},
     "output_type": "execute_result"
    }
   ],
   "source": [
    "from sklearn.linear_model import LogisticRegression\n",
    "# define the multinomial logistic regression model\n",
    "lr= LogisticRegression(multi_class='multinomial')\n",
    "lr.fit(X_train, Y_train)\n",
    "y_pred = lr.predict(X_test)\n",
    "print(confusion_matrix(Y_test, y_pred))\n",
    "print (\"Accuracy : \", accuracy_score(Y_test,y_pred)*100)\n",
    "Lr_score = round(accuracy_score(Y_test,y_pred)*100,2)\n",
    "Lr_score"
   ]
  },
  {
   "cell_type": "code",
   "execution_count": 26,
   "metadata": {},
   "outputs": [],
   "source": [
    "a = ['LR','KNN','RF','DT']\n",
    "b= [Lr_score, KNN_score, RF_score, DT_score ]"
   ]
  },
  {
   "cell_type": "code",
   "execution_count": 27,
   "metadata": {},
   "outputs": [
    {
     "name": "stderr",
     "output_type": "stream",
     "text": [
      "<ipython-input-27-c64453a16676>:5: MatplotlibDeprecationWarning: Using a string of single character colors as a color sequence is deprecated since 3.2 and will be removed two minor releases later. Use an explicit list instead.\n",
      "  plt.bar(a, b,  width = 0.4, color = my_colors)\n"
     ]
    },
    {
     "data": {
      "image/png": "[encoded data removed]",
      "text/plain": [
       "<Figure size 720x576 with 1 Axes>"
      ]
     },
     "metadata": {
      "needs_background": "light"
     },
     "output_type": "display_data"
    }
   ],
   "source": [
    "fig = plt.figure(figsize = (10, 8))\n",
    "sns.set_theme(style=\"whitegrid\")\n",
    "\n",
    "my_colors = 'rgby'\n",
    "plt.bar(a, b,  width = 0.4, color = my_colors)\n",
    "plt.ylim(92, 100)\n",
    "plt.xlabel(\"Type of classifier\")\n",
    "plt.ylabel(\"Accuracy\")\n",
    "plt.title(\"Comparing accuracy by using different classifiers\")\n",
    "\n",
    "#Plot the data:\n",
    "\n",
    "plt.show()"
   ]
  },
  {
   "cell_type": "code",
   "execution_count": null,
   "metadata": {},
   "outputs": [],
   "source": []
  }
 ],
 "metadata": {
  "kernelspec": {
   "display_name": "Python 3",
   "language": "python",
   "name": "python3"
  },
  "language_info": {
   "codemirror_mode": {
    "name": "ipython",
    "version": 3
   },
   "file_extension": ".py",
   "mimetype": "text/x-python",
   "name": "python",
   "nbconvert_exporter": "python",
   "pygments_lexer": "ipython3",
   "version": "3.8.5"
  }
 },
 "nbformat": 4,
 "nbformat_minor": 4
}
